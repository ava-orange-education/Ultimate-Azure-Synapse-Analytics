{
  "nbformat": 4,
  "nbformat_minor": 2,
  "metadata": {
    "kernelspec": {
      "name": "synapse_pyspark",
      "display_name": "Synapse PySpark"
    },
    "language_info": {
      "name": "python"
    },
    "description": null,
    "save_output": true,
    "synapse_widget": {
      "version": "0.1",
      "state": {}
    }
  },
  "cells": [
    {
      "cell_type": "code",
      "execution_count": 1,
      "outputs": [
        {
          "output_type": "display_data",
          "data": {
            "application/vnd.livy.statement-meta+json": {
              "spark_pool": null,
              "session_id": null,
              "statement_id": null,
              "state": "session_error",
              "livy_statement_state": null,
              "queued_time": "2023-11-23T07:54:49.9478072Z",
              "session_start_time": "2023-11-23T07:54:50.0122286Z",
              "execution_start_time": null,
              "execution_finish_time": null,
              "spark_jobs": null,
              "parent_msg_id": "95b0dc6d-b236-4cbe-bd4c-9014368b583a"
            },
            "text/plain": "StatementMeta(, , , SessionError, )"
          },
          "metadata": {}
        },
        {
          "output_type": "error",
          "ename": "InvalidHttpRequestToLivy",
          "evalue": "Your Spark job requested 192 vcores. However, the workspace has a 12 core limit. Try reducing the numbers of vcores requested or increasing your vcore quota. Quota can be increased using Azure Support request https://learn.microsoft.com/en-us/azure/synapse-analytics/spark/apache-spark-concepts#workspace-level HTTP status code: 400. Trace ID: b369915b-bf63-47a0-af02-7509e2f916af.",
          "traceback": [
            "InvalidHttpRequestToLivy: Your Spark job requested 192 vcores. However, the workspace has a 12 core limit. Try reducing the numbers of vcores requested or increasing your vcore quota. Quota can be increased using Azure Support request https://learn.microsoft.com/en-us/azure/synapse-analytics/spark/apache-spark-concepts#workspace-level HTTP status code: 400. Trace ID: b369915b-bf63-47a0-af02-7509e2f916af."
          ]
        }
      ],
      "metadata": {},
      "source": [
        "# Read the data from the parquet file\r\n",
        "df = spark.read.parquet(\"abfss://ultimatefile@ultimateazure.dfs.core.windows.net/NYCTripSmall.parquet\")\r\n",
        "\r\n",
        "# Perform data analysis\r\n",
        "passenger_counts = df.groupBy(\"passenger_count\").count()\r\n",
        "\r\n",
        "# Show the results\r\n",
        "display(passenger_counts)\r\n",
        ""
      ]
    }
  ]
}