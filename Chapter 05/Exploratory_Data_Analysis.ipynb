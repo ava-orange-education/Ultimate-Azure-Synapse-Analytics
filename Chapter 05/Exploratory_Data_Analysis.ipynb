{
  "cells": [
    {
      "cell_type": "code",
      "source": [
        "import matplotlib.pyplot as plt\r\n",
        "import seaborn as sns\r\n",
        "import pandas as pd\r\n",
        "from azureml.opendatasets import NycTlcYellow\r\n",
        "from datetime import datetime\r\n",
        "from dateutil import parser\r\n",
        "\r\n",
        "end_date = parser.parse('2018-06-06')\r\n",
        "start_date = parser.parse('2018-05-01')\r\n",
        "nyc_tlc = NycTlcYellow(start_date=start_date, end_date=end_date)\r\n",
        "df = nyc_tlc.to_spark_dataframe()"
      ],
      "outputs": [],
      "execution_count": null,
      "metadata": {
        "jupyter": {
          "source_hidden": false,
          "outputs_hidden": false
        },
        "nteract": {
          "transient": {
            "deleting": false
          }
        }
      }
    },
    {
      "cell_type": "code",
      "source": [
        "# Filter the dataset \r\n",
        "from pyspark.sql.functions import *\r\n",
        "\r\n",
        "filtered_df = df.select('vendorID', 'passengerCount', 'tripDistance','paymentType', 'fareAmount', 'tipAmount'\\\r\n",
        "                                , date_format('tpepPickupDateTime', 'hh').alias('hour_of_day')\\\r\n",
        "                                , dayofweek('tpepPickupDateTime').alias('day_of_week')\\\r\n",
        "                                , dayofmonth(col('tpepPickupDateTime')).alias('day_of_month'))\\\r\n",
        "                            .filter((df.passengerCount > 0)\\\r\n",
        "                                & (df.tipAmount >= 0)\\\r\n",
        "                                & (df.fareAmount >= 1) & (df.fareAmount <= 250)\\\r\n",
        "                                & (df.tripDistance > 0) & (df.tripDistance <= 200))\r\n",
        "\r\n",
        "#Create Database\r\n",
        "spark.sql(\"CREATE DATABASE IF NOT EXISTS NycTlcTutorial\")\r\n",
        "\r\n",
        "#Save DF as table\r\n",
        "filtered_df.write.mode(\"overwrite\").saveAsTable(\"NycTlcTutorial.nyctaxi\")\r\n"
      ],
      "outputs": [],
      "execution_count": null,
      "metadata": {
        "jupyter": {
          "source_hidden": false,
          "outputs_hidden": false
        },
        "nteract": {
          "transient": {
            "deleting": false
          }
        }
      }
    },
    {
      "cell_type": "code",
      "source": [
        "# To make development easier, faster, and less expensive, downsample for now\r\n",
        "sampled_taxi_df = filtered_df.sample(True, 0.001, seed=1234)\r\n",
        "\r\n",
        "# The charting package needs a Pandas DataFrame or NumPy array to do the conversion\r\n",
        "sampled_taxi_pd_df = sampled_taxi_df.toPandas()"
      ],
      "outputs": [],
      "execution_count": null,
      "metadata": {
        "jupyter": {
          "source_hidden": false,
          "outputs_hidden": false
        },
        "nteract": {
          "transient": {
            "deleting": false
          }
        }
      }
    },
    {
      "cell_type": "code",
      "source": [
        "# Look at a histogram of tips by count by using Matplotlib\r\n",
        "\r\n",
        "ax1 = sampled_taxi_pd_df['tipAmount'].plot(kind='hist', bins=25, facecolor='lightblue')\r\n",
        "ax1.set_title('Tip amount distribution')\r\n",
        "ax1.set_xlabel('Tip Amount ($)')\r\n",
        "ax1.set_ylabel('Counts')\r\n",
        "plt.suptitle('')\r\n",
        "plt.show()"
      ],
      "outputs": [],
      "execution_count": null,
      "metadata": {
        "jupyter": {
          "source_hidden": false,
          "outputs_hidden": false
        },
        "nteract": {
          "transient": {
            "deleting": false
          }
        }
      }
    },
    {
      "cell_type": "code",
      "source": [
        "# View the distribution of tips by day of week using Seaborn\r\n",
        "\r\n",
        "ax = sns.boxplot(x=\"day_of_week\", y=\"tipAmount\",data=sampled_taxi_pd_df, showfliers = False)\r\n",
        "ax.set_title('Tip amount distribution per day')\r\n",
        "ax.set_xlabel('Day of Week')\r\n",
        "ax.set_ylabel('Tip Amount ($)')\r\n",
        "plt.show()"
      ],
      "outputs": [],
      "execution_count": null,
      "metadata": {
        "jupyter": {
          "source_hidden": false,
          "outputs_hidden": false
        },
        "nteract": {
          "transient": {
            "deleting": false
          }
        }
      }
    },
    {
      "cell_type": "code",
      "source": [
        "# How many passengers tipped by various amounts \r\n",
        "ax2 = sampled_taxi_pd_df.boxplot(column=['tipAmount'], by=['passengerCount'])\r\n",
        "ax2.set_title('Tip amount by Passenger count')\r\n",
        "ax2.set_xlabel('Passenger count')\r\n",
        "ax2.set_ylabel('Tip Amount ($)')\r\n",
        "ax2.set_ylim(0,30)\r\n",
        "plt.suptitle('')\r\n",
        "plt.show()"
      ],
      "outputs": [],
      "execution_count": null,
      "metadata": {
        "jupyter": {
          "source_hidden": false,
          "outputs_hidden": false
        },
        "nteract": {
          "transient": {
            "deleting": false
          }
        }
      }
    }
  ],
  "metadata": {
    "kernelspec": {
      "name": "synapse_pyspark",
      "display_name": "Synapse PySpark"
    },
    "language_info": {
      "name": "python"
    },
    "description": null,
    "save_output": true,
    "synapse_widget": {
      "version": "0.1",
      "state": {}
    }
  },
  "nbformat": 4,
  "nbformat_minor": 2
}